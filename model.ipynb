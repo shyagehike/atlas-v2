{
 "cells": [
  {
   "cell_type": "markdown",
   "id": "01f29b61",
   "metadata": {},
   "source": [
    "# Intwari ATLAS v2 - Model\n",
    "this notebook is focused on the development, training, validation, and analysis of a machine learning model using the dataset processed, merged, populated, and cleaned in the features.ipynb notebook."
   ]
  },
  {
   "cell_type": "code",
   "execution_count": null,
   "id": "1fa6193c",
   "metadata": {
    "vscode": {
     "languageId": "plaintext"
    }
   },
   "outputs": [],
   "source": []
  }
 ],
 "metadata": {
  "language_info": {
   "name": "python"
  }
 },
 "nbformat": 4,
 "nbformat_minor": 5
}
