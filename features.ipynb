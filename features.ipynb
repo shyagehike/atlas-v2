{
 "cells": [
  {
   "cell_type": "code",
   "execution_count": 2,
   "id": "5c586a6c",
   "metadata": {},
   "outputs": [],
   "source": [
    "import ee, math, datetime ,os\n",
    "import numpy as np\n",
    "import pandas as pd\n",
    "import geopandas as gpd"
   ]
  },
  {
   "cell_type": "code",
   "execution_count": 3,
   "id": "f31f2c0f",
   "metadata": {},
   "outputs": [],
   "source": [
    "from dotenv import load_dotenv\n",
    "\n",
    "load_dotenv()\n",
    "ee.Authenticate()\n",
    "ee.Initialize(project=os.getenv('projectkey'))"
   ]
  },
  {
   "cell_type": "code",
   "execution_count": null,
   "id": "3fea2e49",
   "metadata": {},
   "outputs": [],
   "source": [
    "TARGET_CRS=\"EPSG:32736\"\n",
    "TARGET_SCALE=90#meters\n",
    "RECEPTIVE_FIELD=15#pixels^2\n",
    "rw_borders=ee.FeatureCollection('USDOS/LSIB_SIMPLE/2017').filter(ee.Filter.eq('country_na','Rwanda')).geometry()\n",
    "rw_bbox=ee.Geometry.BBox(28.8465, -2.8535, 30.9135, -1.0265) # 1.5 km padding around rwanda's borders\n",
    "grid_fc=rw_bbox.coveringGrid(TARGET_CRS,TARGET_SCALE)"
   ]
  },
  {
   "cell_type": "code",
   "execution_count": null,
   "id": "e4884d86",
   "metadata": {},
   "outputs": [],
   "source": [
    "noaa_gfs=ee.ImageCollection('NOAA/GFS0P25')\n",
    "noaa_cfsv2=ee.ImageCollection(\"NOAA/CFSV2/FOR6H\")\n",
    "wwf_hdd=ee.Image(\"WWF/HydroSHEDS/03DIR\").resample('bilinear').reproject(crs=TARGET_CRS,scale=TARGET_SCALE)\n",
    "wwf_habl12=ee.FeatureCollection(\"WWF/HydroATLAS/v1/Basins/level12\")\n",
    "\n",
    "streams={\n",
    "    noaa_gfs:['precipitation_rate','temperature_2m_above_ground'],\n",
    "    noaa_cfsv2:'Volumetric_Soil_Moisture_Content_depth_below_surface_layer_5_cm',\n",
    "    wwf_habl12:['for_pc_sse', 'kar_pc_sse', 'slp_dg_sav', 'wet_cl_smj', 'lka_pc_sse', 'ria_ha_ssu', 'lit_cl_smj', 'ero_kh_sav', 'ire_pc_sse', 'inu_pc_smx', 'dis_m3_pyr'],\n",
    "    wwf_hdd:'b1'}"
   ]
  },
  {
   "cell_type": "code",
   "execution_count": null,
   "id": "67dad1b1",
   "metadata": {},
   "outputs": [],
   "source": [
    "# thanks for your time"
   ]
  }
 ],
 "metadata": {
  "kernelspec": {
   "display_name": ".venv (3.12.3)",
   "language": "python",
   "name": "python3"
  },
  "language_info": {
   "codemirror_mode": {
    "name": "ipython",
    "version": 3
   },
   "file_extension": ".py",
   "mimetype": "text/x-python",
   "name": "python",
   "nbconvert_exporter": "python",
   "pygments_lexer": "ipython3",
   "version": "3.12.3"
  }
 },
 "nbformat": 4,
 "nbformat_minor": 5
}
